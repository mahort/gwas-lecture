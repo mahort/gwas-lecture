{
 "cells": [
  {
   "cell_type": "code",
   "execution_count": 1,
   "metadata": {},
   "outputs": [],
   "source": [
    "%matplotlib inline\n",
    "from warnings import simplefilter \n",
    "simplefilter(action='ignore', category=FutureWarning)\n",
    "\n",
    "import h5py\n",
    "import numpy as np\n",
    "import pylab as plt\n",
    "import sys\n",
    "sys.path.append('./..')\n",
    "import data as tutorial_data\n",
    "file_name = tutorial_data.get_file('BYxRM')"
   ]
  },
  {
   "cell_type": "markdown",
   "metadata": {},
   "source": [
    "---\n",
    "## Pandas\n",
    "\n",
    "Similar to *NumPy*, *Pandas* is one of the most widely used python libraries in data science. It provides high-performance, easy to use structures and data analysis tools. Unlike *NumPy* library which provides objects for multi-dimensional arrays, *Pandas* provides in-memory 2d table object called *Dataframe*. It is like a spreadsheet with column names and row label.  \n",
    "\n",
    "Some commonly used data structures in pandas are:\n",
    "\n",
    "- *Series* objects: 1D array, similar to a column in a spreadsheet\n",
    "- *DataFrame* objects: 2D table, similar to a spreadsheet\n",
    "- *Panel* objects: Dictionary of DataFrames, similar to sheet in MS Excel\n",
    "\n",
    "Pandas can be imported into Python using:"
   ]
  },
  {
   "cell_type": "code",
   "execution_count": 2,
   "metadata": {},
   "outputs": [],
   "source": [
    "import pandas as pd"
   ]
  },
  {
   "cell_type": "markdown",
   "metadata": {},
   "source": [
    "### Pandas Series\n",
    "\n",
    "Pandas Series object is created using *pd.Series* function. Each row is provided with an index and by defaults is assigned numerical values starting from *0*. Like *NumPy*, Pandas also provide the basic mathematical functionalities like addition, subtraction and conditional operations and broadcasting."
   ]
  },
  {
   "cell_type": "code",
   "execution_count": 3,
   "metadata": {},
   "outputs": [
    {
     "name": "stdout",
     "output_type": "stream",
     "text": [
      "alice       68\n",
      "bob         83\n",
      "charles    112\n",
      "dtype: int64\n",
      "---\n",
      "[ 68  83 112]\n"
     ]
    }
   ],
   "source": [
    "weight = pd.Series([68, 83, 112],index=[\"alice\", \"bob\", \"charles\"])\n",
    "birthyear = pd.Series([1984, 1985, 1992], index=[\"bob\", \"alice\", \"charles\"], name=\"year\")\n",
    "children = pd.Series([0, 3], index=[\"charles\", \"bob\"])\n",
    "hobby = pd.Series([\"Biking\", \"Dancing\"], index=[\"alice\", \"bob\"])\n",
    "print(weight)\n",
    "print('---')\n",
    "print(weight.values)"
   ]
  },
  {
   "cell_type": "markdown",
   "metadata": {},
   "source": [
    "For a lot of applications, a plain old *Series* is probably not a lot of use, but it is the core component of the Pandas workhorse, the *DataFrame*, so it’s useful to know about.   \n",
    "\n",
    "The *DataFrame* represents tabular data, a bit like a spreadsheet. *DataFrames* are organised into colums (each of which is a *Series*), and each column can store a single data-type, such as floating point numbers, strings, boolean values etc. *DataFrames* can be indexed by either their row or column names. (They are similar in many ways to R’s `data.frame`.).  \n",
    "\n",
    "We can create a *DataFrame* in *Pandas* from a Python dictionary, or by loading in a text file containing tabular data. First we are going to look at how to create one from a dictionary.\n"
   ]
  },
  {
   "cell_type": "code",
   "execution_count": 4,
   "metadata": {},
   "outputs": [
    {
     "data": {
      "text/html": [
       "<div>\n",
       "<style scoped>\n",
       "    .dataframe tbody tr th:only-of-type {\n",
       "        vertical-align: middle;\n",
       "    }\n",
       "\n",
       "    .dataframe tbody tr th {\n",
       "        vertical-align: top;\n",
       "    }\n",
       "\n",
       "    .dataframe thead th {\n",
       "        text-align: right;\n",
       "    }\n",
       "</style>\n",
       "<table border=\"1\" class=\"dataframe\">\n",
       "  <thead>\n",
       "    <tr style=\"text-align: right;\">\n",
       "      <th></th>\n",
       "      <th>weight</th>\n",
       "      <th>birthyear</th>\n",
       "      <th>children</th>\n",
       "      <th>hobby</th>\n",
       "    </tr>\n",
       "  </thead>\n",
       "  <tbody>\n",
       "    <tr>\n",
       "      <th>alice</th>\n",
       "      <td>68</td>\n",
       "      <td>1985</td>\n",
       "      <td>NaN</td>\n",
       "      <td>Biking</td>\n",
       "    </tr>\n",
       "    <tr>\n",
       "      <th>bob</th>\n",
       "      <td>83</td>\n",
       "      <td>1984</td>\n",
       "      <td>3.0</td>\n",
       "      <td>Dancing</td>\n",
       "    </tr>\n",
       "    <tr>\n",
       "      <th>charles</th>\n",
       "      <td>112</td>\n",
       "      <td>1992</td>\n",
       "      <td>0.0</td>\n",
       "      <td>NaN</td>\n",
       "    </tr>\n",
       "  </tbody>\n",
       "</table>\n",
       "</div>"
      ],
      "text/plain": [
       "         weight  birthyear  children    hobby\n",
       "alice        68       1985       NaN   Biking\n",
       "bob          83       1984       3.0  Dancing\n",
       "charles     112       1992       0.0      NaN"
      ]
     },
     "execution_count": 4,
     "metadata": {},
     "output_type": "execute_result"
    }
   ],
   "source": [
    "df = pd.DataFrame({'weight': weight, 'birthyear': birthyear, 'children': children, 'hobby': hobby})\n",
    "df"
   ]
  },
  {
   "cell_type": "markdown",
   "metadata": {},
   "source": [
    "An alternative way to create a *DataFrame* is to load it from existing files. There are various loading function to load data from different file sources which can be found [here](https://pandas.pydata.org/pandas-docs/stable/api.html#input-output). The most important ones are:\n",
    "- *pd.read_pickle*: Load pickled pandas object (or any object) from file\n",
    "- *pd.read_csv*: Read CSV (comma-separated) file into DataFrame\n",
    "- *pd.read_json*: Convert a JSON string to pandas object\n",
    "- *pd.read_excel*: Read an Excel table into a pandas DataFrame\n",
    "- *pd.read_hdf*: Read from the HDF5 file (PyTables format)\n",
    "\n",
    "Let's return now to our HDF5 file that we previously examined.\n",
    "The *phenotype* group contains 3 datasets:"
   ]
  },
  {
   "cell_type": "code",
   "execution_count": 5,
   "metadata": {},
   "outputs": [
    {
     "name": "stdout",
     "output_type": "stream",
     "text": [
      "['col_header', 'matrix', 'row_header']\n",
      "<HDF5 dataset \"phenotype_ID\": shape (46,), type \"|S22\">\n",
      "<HDF5 dataset \"sample_ID\": shape (1008,), type \"|S22\">\n"
     ]
    }
   ],
   "source": [
    "f = h5py.File(file_name, 'r')\n",
    "print(list(f['phenotype'].keys()))\n",
    "print(f['phenotype/col_header/phenotype_ID'])\n",
    "print(f['phenotype/row_header/sample_ID'])"
   ]
  },
  {
   "cell_type": "markdown",
   "metadata": {},
   "source": [
    "This seems to be a phenotype matrix where the *matrix* dataset contains the 2d array with the phenotype values and the *col_header/phenotype_ID* contains the phenotype names and the *row_header/sample_ID* contains the accession ids.  \n",
    "We can construct a Panda *dataframe* in the following way:"
   ]
  },
  {
   "cell_type": "code",
   "execution_count": 6,
   "metadata": {},
   "outputs": [],
   "source": [
    "pheno_group = f['phenotype']\n",
    "df = pd.DataFrame(pheno_group['matrix'][:], \n",
    "                        columns=np.char.decode(pheno_group['col_header']['phenotype_ID'][:]),\n",
    "                        index=np.char.decode(pheno_group['row_header']['sample_ID'][:]))"
   ]
  },
  {
   "cell_type": "markdown",
   "metadata": {},
   "source": [
    "**Dataframes** have some essential methods to access the data:\n",
    "- **head()**: returns the top 5 rows in the dataframe object\n",
    "- **tail()**: returns the bottom 5 rows in the dataframe\n",
    "- **info()**: prints the summary of the dataframe\n",
    "- **describe()**: gives a nice overview of the main aggregated values over each column"
   ]
  },
  {
   "cell_type": "code",
   "execution_count": 7,
   "metadata": {},
   "outputs": [
    {
     "data": {
      "text/html": [
       "<div>\n",
       "<style scoped>\n",
       "    .dataframe tbody tr th:only-of-type {\n",
       "        vertical-align: middle;\n",
       "    }\n",
       "\n",
       "    .dataframe tbody tr th {\n",
       "        vertical-align: top;\n",
       "    }\n",
       "\n",
       "    .dataframe thead th {\n",
       "        text-align: right;\n",
       "    }\n",
       "</style>\n",
       "<table border=\"1\" class=\"dataframe\">\n",
       "  <thead>\n",
       "    <tr style=\"text-align: right;\">\n",
       "      <th></th>\n",
       "      <th>Cadmium_Chloride</th>\n",
       "      <th>Caffeine</th>\n",
       "      <th>Calcium_Chloride</th>\n",
       "      <th>Cisplatin</th>\n",
       "      <th>Cobalt_Chloride</th>\n",
       "      <th>Congo_red</th>\n",
       "      <th>Copper</th>\n",
       "      <th>Cycloheximide</th>\n",
       "      <th>Diamide</th>\n",
       "      <th>E6_Berbamine</th>\n",
       "      <th>...</th>\n",
       "      <th>x6-Azauracil</th>\n",
       "      <th>Xylose</th>\n",
       "      <th>YNB</th>\n",
       "      <th>YNB:ph3</th>\n",
       "      <th>YNB:ph8</th>\n",
       "      <th>YPD</th>\n",
       "      <th>YPD:15C</th>\n",
       "      <th>YPD:37C</th>\n",
       "      <th>YPD:4C</th>\n",
       "      <th>Zeocin</th>\n",
       "    </tr>\n",
       "  </thead>\n",
       "  <tbody>\n",
       "    <tr>\n",
       "      <th>A01_01</th>\n",
       "      <td>-7.323520</td>\n",
       "      <td>0.279993</td>\n",
       "      <td>0.313118</td>\n",
       "      <td>1.658179</td>\n",
       "      <td>-1.604442</td>\n",
       "      <td>5.841617</td>\n",
       "      <td>-4.130950</td>\n",
       "      <td>0.821226</td>\n",
       "      <td>3.622602</td>\n",
       "      <td>-0.378747</td>\n",
       "      <td>...</td>\n",
       "      <td>1.199054</td>\n",
       "      <td>-0.309149</td>\n",
       "      <td>17.470822</td>\n",
       "      <td>0.055225</td>\n",
       "      <td>-0.184268</td>\n",
       "      <td>24.548971</td>\n",
       "      <td>0.712171</td>\n",
       "      <td>0.890842</td>\n",
       "      <td>4.118372</td>\n",
       "      <td>8.592818</td>\n",
       "    </tr>\n",
       "    <tr>\n",
       "      <th>A01_02</th>\n",
       "      <td>-8.098236</td>\n",
       "      <td>-0.206326</td>\n",
       "      <td>-0.534844</td>\n",
       "      <td>-0.918012</td>\n",
       "      <td>0.892198</td>\n",
       "      <td>-1.618172</td>\n",
       "      <td>1.131947</td>\n",
       "      <td>-0.764736</td>\n",
       "      <td>-2.946279</td>\n",
       "      <td>-2.475193</td>\n",
       "      <td>...</td>\n",
       "      <td>0.443182</td>\n",
       "      <td>0.697908</td>\n",
       "      <td>18.052925</td>\n",
       "      <td>0.283462</td>\n",
       "      <td>1.662201</td>\n",
       "      <td>26.808476</td>\n",
       "      <td>-1.522498</td>\n",
       "      <td>0.006062</td>\n",
       "      <td>0.066515</td>\n",
       "      <td>-4.220476</td>\n",
       "    </tr>\n",
       "    <tr>\n",
       "      <th>A01_03</th>\n",
       "      <td>7.605720</td>\n",
       "      <td>-0.127960</td>\n",
       "      <td>-0.311102</td>\n",
       "      <td>-2.712088</td>\n",
       "      <td>3.301709</td>\n",
       "      <td>-6.680571</td>\n",
       "      <td>-1.138056</td>\n",
       "      <td>-3.382532</td>\n",
       "      <td>-3.157866</td>\n",
       "      <td>-4.178616</td>\n",
       "      <td>...</td>\n",
       "      <td>1.472629</td>\n",
       "      <td>1.474329</td>\n",
       "      <td>18.163782</td>\n",
       "      <td>-0.951379</td>\n",
       "      <td>0.369565</td>\n",
       "      <td>26.183975</td>\n",
       "      <td>1.082289</td>\n",
       "      <td>1.723157</td>\n",
       "      <td>5.714088</td>\n",
       "      <td>-6.506519</td>\n",
       "    </tr>\n",
       "    <tr>\n",
       "      <th>A01_04</th>\n",
       "      <td>-6.147649</td>\n",
       "      <td>0.878392</td>\n",
       "      <td>-0.563331</td>\n",
       "      <td>-0.827358</td>\n",
       "      <td>-1.291270</td>\n",
       "      <td>2.753851</td>\n",
       "      <td>-2.268121</td>\n",
       "      <td>0.867456</td>\n",
       "      <td>-6.832079</td>\n",
       "      <td>-1.970630</td>\n",
       "      <td>...</td>\n",
       "      <td>0.054694</td>\n",
       "      <td>-0.739040</td>\n",
       "      <td>15.575856</td>\n",
       "      <td>-1.690867</td>\n",
       "      <td>-0.840344</td>\n",
       "      <td>20.893646</td>\n",
       "      <td>-0.636280</td>\n",
       "      <td>0.053258</td>\n",
       "      <td>-3.196936</td>\n",
       "      <td>0.294462</td>\n",
       "    </tr>\n",
       "    <tr>\n",
       "      <th>A01_05</th>\n",
       "      <td>9.379060</td>\n",
       "      <td>-1.353169</td>\n",
       "      <td>0.405204</td>\n",
       "      <td>-1.137234</td>\n",
       "      <td>4.260286</td>\n",
       "      <td>-7.391216</td>\n",
       "      <td>-3.222742</td>\n",
       "      <td>1.586376</td>\n",
       "      <td>1.048391</td>\n",
       "      <td>-3.971730</td>\n",
       "      <td>...</td>\n",
       "      <td>0.267463</td>\n",
       "      <td>0.959138</td>\n",
       "      <td>17.808444</td>\n",
       "      <td>0.127621</td>\n",
       "      <td>1.967267</td>\n",
       "      <td>28.621507</td>\n",
       "      <td>-3.720999</td>\n",
       "      <td>-0.768724</td>\n",
       "      <td>-4.002786</td>\n",
       "      <td>7.045575</td>\n",
       "    </tr>\n",
       "    <tr>\n",
       "      <th>A01_06</th>\n",
       "      <td>9.394562</td>\n",
       "      <td>1.655436</td>\n",
       "      <td>0.531654</td>\n",
       "      <td>-2.044903</td>\n",
       "      <td>1.577325</td>\n",
       "      <td>-5.769939</td>\n",
       "      <td>1.355905</td>\n",
       "      <td>2.336068</td>\n",
       "      <td>4.038331</td>\n",
       "      <td>-2.917101</td>\n",
       "      <td>...</td>\n",
       "      <td>0.591233</td>\n",
       "      <td>-0.134019</td>\n",
       "      <td>16.085601</td>\n",
       "      <td>-0.100294</td>\n",
       "      <td>0.710547</td>\n",
       "      <td>23.549116</td>\n",
       "      <td>-2.680231</td>\n",
       "      <td>2.025716</td>\n",
       "      <td>-0.889829</td>\n",
       "      <td>-4.108786</td>\n",
       "    </tr>\n",
       "    <tr>\n",
       "      <th>A01_07</th>\n",
       "      <td>-7.229972</td>\n",
       "      <td>-1.423605</td>\n",
       "      <td>-0.007546</td>\n",
       "      <td>-1.714243</td>\n",
       "      <td>0.954948</td>\n",
       "      <td>2.111495</td>\n",
       "      <td>0.590067</td>\n",
       "      <td>1.415252</td>\n",
       "      <td>-4.861309</td>\n",
       "      <td>-4.082216</td>\n",
       "      <td>...</td>\n",
       "      <td>-0.330839</td>\n",
       "      <td>0.294128</td>\n",
       "      <td>16.472448</td>\n",
       "      <td>-0.612281</td>\n",
       "      <td>-0.242591</td>\n",
       "      <td>23.901629</td>\n",
       "      <td>-1.834152</td>\n",
       "      <td>-3.487390</td>\n",
       "      <td>3.618048</td>\n",
       "      <td>-0.035142</td>\n",
       "    </tr>\n",
       "    <tr>\n",
       "      <th>A01_08</th>\n",
       "      <td>-7.585476</td>\n",
       "      <td>1.750342</td>\n",
       "      <td>0.941181</td>\n",
       "      <td>0.306306</td>\n",
       "      <td>-2.997501</td>\n",
       "      <td>0.063007</td>\n",
       "      <td>-4.352137</td>\n",
       "      <td>2.634605</td>\n",
       "      <td>3.147146</td>\n",
       "      <td>8.292883</td>\n",
       "      <td>...</td>\n",
       "      <td>0.043294</td>\n",
       "      <td>-0.826648</td>\n",
       "      <td>16.210856</td>\n",
       "      <td>NaN</td>\n",
       "      <td>-0.538390</td>\n",
       "      <td>23.595423</td>\n",
       "      <td>-1.449024</td>\n",
       "      <td>1.679693</td>\n",
       "      <td>-2.227455</td>\n",
       "      <td>-5.773160</td>\n",
       "    </tr>\n",
       "    <tr>\n",
       "      <th>A01_09</th>\n",
       "      <td>-7.890982</td>\n",
       "      <td>-0.559696</td>\n",
       "      <td>-1.396937</td>\n",
       "      <td>-0.879233</td>\n",
       "      <td>-1.044798</td>\n",
       "      <td>-6.214873</td>\n",
       "      <td>0.211404</td>\n",
       "      <td>-0.006420</td>\n",
       "      <td>-9.470146</td>\n",
       "      <td>-4.480685</td>\n",
       "      <td>...</td>\n",
       "      <td>-0.048497</td>\n",
       "      <td>-0.483113</td>\n",
       "      <td>15.161760</td>\n",
       "      <td>-0.035535</td>\n",
       "      <td>-0.398174</td>\n",
       "      <td>22.693341</td>\n",
       "      <td>-1.580512</td>\n",
       "      <td>-1.320567</td>\n",
       "      <td>-4.863302</td>\n",
       "      <td>9.024782</td>\n",
       "    </tr>\n",
       "    <tr>\n",
       "      <th>A01_10</th>\n",
       "      <td>-8.144131</td>\n",
       "      <td>-2.787328</td>\n",
       "      <td>-1.111711</td>\n",
       "      <td>-0.239611</td>\n",
       "      <td>-2.933533</td>\n",
       "      <td>1.231604</td>\n",
       "      <td>1.397043</td>\n",
       "      <td>2.405056</td>\n",
       "      <td>8.532335</td>\n",
       "      <td>14.355684</td>\n",
       "      <td>...</td>\n",
       "      <td>0.685319</td>\n",
       "      <td>-0.594544</td>\n",
       "      <td>16.388451</td>\n",
       "      <td>-0.742849</td>\n",
       "      <td>-0.427930</td>\n",
       "      <td>23.697733</td>\n",
       "      <td>-2.967864</td>\n",
       "      <td>-1.553708</td>\n",
       "      <td>-5.314155</td>\n",
       "      <td>-1.229565</td>\n",
       "    </tr>\n",
       "  </tbody>\n",
       "</table>\n",
       "<p>10 rows × 46 columns</p>\n",
       "</div>"
      ],
      "text/plain": [
       "        Cadmium_Chloride  Caffeine  Calcium_Chloride  Cisplatin  \\\n",
       "A01_01         -7.323520  0.279993          0.313118   1.658179   \n",
       "A01_02         -8.098236 -0.206326         -0.534844  -0.918012   \n",
       "A01_03          7.605720 -0.127960         -0.311102  -2.712088   \n",
       "A01_04         -6.147649  0.878392         -0.563331  -0.827358   \n",
       "A01_05          9.379060 -1.353169          0.405204  -1.137234   \n",
       "A01_06          9.394562  1.655436          0.531654  -2.044903   \n",
       "A01_07         -7.229972 -1.423605         -0.007546  -1.714243   \n",
       "A01_08         -7.585476  1.750342          0.941181   0.306306   \n",
       "A01_09         -7.890982 -0.559696         -1.396937  -0.879233   \n",
       "A01_10         -8.144131 -2.787328         -1.111711  -0.239611   \n",
       "\n",
       "        Cobalt_Chloride  Congo_red    Copper  Cycloheximide   Diamide  \\\n",
       "A01_01        -1.604442   5.841617 -4.130950       0.821226  3.622602   \n",
       "A01_02         0.892198  -1.618172  1.131947      -0.764736 -2.946279   \n",
       "A01_03         3.301709  -6.680571 -1.138056      -3.382532 -3.157866   \n",
       "A01_04        -1.291270   2.753851 -2.268121       0.867456 -6.832079   \n",
       "A01_05         4.260286  -7.391216 -3.222742       1.586376  1.048391   \n",
       "A01_06         1.577325  -5.769939  1.355905       2.336068  4.038331   \n",
       "A01_07         0.954948   2.111495  0.590067       1.415252 -4.861309   \n",
       "A01_08        -2.997501   0.063007 -4.352137       2.634605  3.147146   \n",
       "A01_09        -1.044798  -6.214873  0.211404      -0.006420 -9.470146   \n",
       "A01_10        -2.933533   1.231604  1.397043       2.405056  8.532335   \n",
       "\n",
       "        E6_Berbamine  ...  x6-Azauracil    Xylose        YNB   YNB:ph3  \\\n",
       "A01_01     -0.378747  ...      1.199054 -0.309149  17.470822  0.055225   \n",
       "A01_02     -2.475193  ...      0.443182  0.697908  18.052925  0.283462   \n",
       "A01_03     -4.178616  ...      1.472629  1.474329  18.163782 -0.951379   \n",
       "A01_04     -1.970630  ...      0.054694 -0.739040  15.575856 -1.690867   \n",
       "A01_05     -3.971730  ...      0.267463  0.959138  17.808444  0.127621   \n",
       "A01_06     -2.917101  ...      0.591233 -0.134019  16.085601 -0.100294   \n",
       "A01_07     -4.082216  ...     -0.330839  0.294128  16.472448 -0.612281   \n",
       "A01_08      8.292883  ...      0.043294 -0.826648  16.210856       NaN   \n",
       "A01_09     -4.480685  ...     -0.048497 -0.483113  15.161760 -0.035535   \n",
       "A01_10     14.355684  ...      0.685319 -0.594544  16.388451 -0.742849   \n",
       "\n",
       "         YNB:ph8        YPD   YPD:15C   YPD:37C    YPD:4C    Zeocin  \n",
       "A01_01 -0.184268  24.548971  0.712171  0.890842  4.118372  8.592818  \n",
       "A01_02  1.662201  26.808476 -1.522498  0.006062  0.066515 -4.220476  \n",
       "A01_03  0.369565  26.183975  1.082289  1.723157  5.714088 -6.506519  \n",
       "A01_04 -0.840344  20.893646 -0.636280  0.053258 -3.196936  0.294462  \n",
       "A01_05  1.967267  28.621507 -3.720999 -0.768724 -4.002786  7.045575  \n",
       "A01_06  0.710547  23.549116 -2.680231  2.025716 -0.889829 -4.108786  \n",
       "A01_07 -0.242591  23.901629 -1.834152 -3.487390  3.618048 -0.035142  \n",
       "A01_08 -0.538390  23.595423 -1.449024  1.679693 -2.227455 -5.773160  \n",
       "A01_09 -0.398174  22.693341 -1.580512 -1.320567 -4.863302  9.024782  \n",
       "A01_10 -0.427930  23.697733 -2.967864 -1.553708 -5.314155 -1.229565  \n",
       "\n",
       "[10 rows x 46 columns]"
      ]
     },
     "execution_count": 7,
     "metadata": {},
     "output_type": "execute_result"
    }
   ],
   "source": [
    "# retrieve first 10 rows\n",
    "df.head(10)"
   ]
  },
  {
   "cell_type": "code",
   "execution_count": 8,
   "metadata": {},
   "outputs": [
    {
     "data": {
      "text/html": [
       "<div>\n",
       "<style scoped>\n",
       "    .dataframe tbody tr th:only-of-type {\n",
       "        vertical-align: middle;\n",
       "    }\n",
       "\n",
       "    .dataframe tbody tr th {\n",
       "        vertical-align: top;\n",
       "    }\n",
       "\n",
       "    .dataframe thead th {\n",
       "        text-align: right;\n",
       "    }\n",
       "</style>\n",
       "<table border=\"1\" class=\"dataframe\">\n",
       "  <thead>\n",
       "    <tr style=\"text-align: right;\">\n",
       "      <th></th>\n",
       "      <th>Cadmium_Chloride</th>\n",
       "      <th>Caffeine</th>\n",
       "      <th>Calcium_Chloride</th>\n",
       "      <th>Cisplatin</th>\n",
       "      <th>Cobalt_Chloride</th>\n",
       "      <th>Congo_red</th>\n",
       "      <th>Copper</th>\n",
       "      <th>Cycloheximide</th>\n",
       "      <th>Diamide</th>\n",
       "      <th>E6_Berbamine</th>\n",
       "      <th>...</th>\n",
       "      <th>x6-Azauracil</th>\n",
       "      <th>Xylose</th>\n",
       "      <th>YNB</th>\n",
       "      <th>YNB:ph3</th>\n",
       "      <th>YNB:ph8</th>\n",
       "      <th>YPD</th>\n",
       "      <th>YPD:15C</th>\n",
       "      <th>YPD:37C</th>\n",
       "      <th>YPD:4C</th>\n",
       "      <th>Zeocin</th>\n",
       "    </tr>\n",
       "  </thead>\n",
       "  <tbody>\n",
       "    <tr>\n",
       "      <th>A11_92</th>\n",
       "      <td>-4.262720</td>\n",
       "      <td>-0.893290</td>\n",
       "      <td>-0.329504</td>\n",
       "      <td>0.257061</td>\n",
       "      <td>-3.120957</td>\n",
       "      <td>2.556543</td>\n",
       "      <td>2.567092</td>\n",
       "      <td>2.054232</td>\n",
       "      <td>1.672347</td>\n",
       "      <td>5.465978</td>\n",
       "      <td>...</td>\n",
       "      <td>0.232614</td>\n",
       "      <td>1.130568</td>\n",
       "      <td>16.629005</td>\n",
       "      <td>0.531583</td>\n",
       "      <td>NaN</td>\n",
       "      <td>23.520842</td>\n",
       "      <td>0.159946</td>\n",
       "      <td>-5.158120</td>\n",
       "      <td>-0.090273</td>\n",
       "      <td>-7.030154</td>\n",
       "    </tr>\n",
       "    <tr>\n",
       "      <th>A11_93</th>\n",
       "      <td>-10.147285</td>\n",
       "      <td>1.145573</td>\n",
       "      <td>0.048948</td>\n",
       "      <td>-1.089350</td>\n",
       "      <td>0.539833</td>\n",
       "      <td>2.720952</td>\n",
       "      <td>-3.445357</td>\n",
       "      <td>0.891066</td>\n",
       "      <td>3.003684</td>\n",
       "      <td>-1.667592</td>\n",
       "      <td>...</td>\n",
       "      <td>-0.317916</td>\n",
       "      <td>1.977915</td>\n",
       "      <td>15.687951</td>\n",
       "      <td>-0.098451</td>\n",
       "      <td>NaN</td>\n",
       "      <td>21.553930</td>\n",
       "      <td>2.977722</td>\n",
       "      <td>-1.913176</td>\n",
       "      <td>4.279626</td>\n",
       "      <td>-4.650492</td>\n",
       "    </tr>\n",
       "    <tr>\n",
       "      <th>A11_94</th>\n",
       "      <td>NaN</td>\n",
       "      <td>0.321844</td>\n",
       "      <td>NaN</td>\n",
       "      <td>1.016712</td>\n",
       "      <td>1.801923</td>\n",
       "      <td>-4.157083</td>\n",
       "      <td>-0.097598</td>\n",
       "      <td>-1.954080</td>\n",
       "      <td>-1.739499</td>\n",
       "      <td>-6.520551</td>\n",
       "      <td>...</td>\n",
       "      <td>-1.698334</td>\n",
       "      <td>1.363267</td>\n",
       "      <td>17.357844</td>\n",
       "      <td>0.390511</td>\n",
       "      <td>NaN</td>\n",
       "      <td>23.977236</td>\n",
       "      <td>0.078992</td>\n",
       "      <td>1.801422</td>\n",
       "      <td>NaN</td>\n",
       "      <td>-0.499069</td>\n",
       "    </tr>\n",
       "    <tr>\n",
       "      <th>A11_95</th>\n",
       "      <td>NaN</td>\n",
       "      <td>-1.001507</td>\n",
       "      <td>NaN</td>\n",
       "      <td>0.004191</td>\n",
       "      <td>4.675717</td>\n",
       "      <td>-10.240998</td>\n",
       "      <td>1.244410</td>\n",
       "      <td>-0.810857</td>\n",
       "      <td>2.305318</td>\n",
       "      <td>9.321186</td>\n",
       "      <td>...</td>\n",
       "      <td>0.259829</td>\n",
       "      <td>0.942454</td>\n",
       "      <td>17.098753</td>\n",
       "      <td>-0.432459</td>\n",
       "      <td>NaN</td>\n",
       "      <td>22.927686</td>\n",
       "      <td>-0.254905</td>\n",
       "      <td>-1.747526</td>\n",
       "      <td>NaN</td>\n",
       "      <td>-7.435961</td>\n",
       "    </tr>\n",
       "    <tr>\n",
       "      <th>A11_96</th>\n",
       "      <td>NaN</td>\n",
       "      <td>NaN</td>\n",
       "      <td>NaN</td>\n",
       "      <td>NaN</td>\n",
       "      <td>-0.155556</td>\n",
       "      <td>NaN</td>\n",
       "      <td>2.603438</td>\n",
       "      <td>-0.026752</td>\n",
       "      <td>NaN</td>\n",
       "      <td>NaN</td>\n",
       "      <td>...</td>\n",
       "      <td>NaN</td>\n",
       "      <td>1.776737</td>\n",
       "      <td>17.924399</td>\n",
       "      <td>-0.165314</td>\n",
       "      <td>NaN</td>\n",
       "      <td>NaN</td>\n",
       "      <td>1.553372</td>\n",
       "      <td>NaN</td>\n",
       "      <td>NaN</td>\n",
       "      <td>NaN</td>\n",
       "    </tr>\n",
       "  </tbody>\n",
       "</table>\n",
       "<p>5 rows × 46 columns</p>\n",
       "</div>"
      ],
      "text/plain": [
       "        Cadmium_Chloride  Caffeine  Calcium_Chloride  Cisplatin  \\\n",
       "A11_92         -4.262720 -0.893290         -0.329504   0.257061   \n",
       "A11_93        -10.147285  1.145573          0.048948  -1.089350   \n",
       "A11_94               NaN  0.321844               NaN   1.016712   \n",
       "A11_95               NaN -1.001507               NaN   0.004191   \n",
       "A11_96               NaN       NaN               NaN        NaN   \n",
       "\n",
       "        Cobalt_Chloride  Congo_red    Copper  Cycloheximide   Diamide  \\\n",
       "A11_92        -3.120957   2.556543  2.567092       2.054232  1.672347   \n",
       "A11_93         0.539833   2.720952 -3.445357       0.891066  3.003684   \n",
       "A11_94         1.801923  -4.157083 -0.097598      -1.954080 -1.739499   \n",
       "A11_95         4.675717 -10.240998  1.244410      -0.810857  2.305318   \n",
       "A11_96        -0.155556        NaN  2.603438      -0.026752       NaN   \n",
       "\n",
       "        E6_Berbamine  ...  x6-Azauracil    Xylose        YNB   YNB:ph3  \\\n",
       "A11_92      5.465978  ...      0.232614  1.130568  16.629005  0.531583   \n",
       "A11_93     -1.667592  ...     -0.317916  1.977915  15.687951 -0.098451   \n",
       "A11_94     -6.520551  ...     -1.698334  1.363267  17.357844  0.390511   \n",
       "A11_95      9.321186  ...      0.259829  0.942454  17.098753 -0.432459   \n",
       "A11_96           NaN  ...           NaN  1.776737  17.924399 -0.165314   \n",
       "\n",
       "        YNB:ph8        YPD   YPD:15C   YPD:37C    YPD:4C    Zeocin  \n",
       "A11_92      NaN  23.520842  0.159946 -5.158120 -0.090273 -7.030154  \n",
       "A11_93      NaN  21.553930  2.977722 -1.913176  4.279626 -4.650492  \n",
       "A11_94      NaN  23.977236  0.078992  1.801422       NaN -0.499069  \n",
       "A11_95      NaN  22.927686 -0.254905 -1.747526       NaN -7.435961  \n",
       "A11_96      NaN        NaN  1.553372       NaN       NaN       NaN  \n",
       "\n",
       "[5 rows x 46 columns]"
      ]
     },
     "execution_count": 8,
     "metadata": {},
     "output_type": "execute_result"
    }
   ],
   "source": [
    "# retrieve last 5 rows\n",
    "df.tail()"
   ]
  },
  {
   "cell_type": "code",
   "execution_count": 9,
   "metadata": {},
   "outputs": [
    {
     "name": "stdout",
     "output_type": "stream",
     "text": [
      "<class 'pandas.core.frame.DataFrame'>\n",
      "Index: 1008 entries, A01_01 to A11_96\n",
      "Data columns (total 46 columns):\n",
      " #   Column                  Non-Null Count  Dtype  \n",
      "---  ------                  --------------  -----  \n",
      " 0   Cadmium_Chloride        799 non-null    float64\n",
      " 1   Caffeine                1004 non-null   float64\n",
      " 2   Calcium_Chloride        949 non-null    float64\n",
      " 3   Cisplatin               990 non-null    float64\n",
      " 4   Cobalt_Chloride         1007 non-null   float64\n",
      " 5   Congo_red               979 non-null    float64\n",
      " 6   Copper                  972 non-null    float64\n",
      " 7   Cycloheximide           1004 non-null   float64\n",
      " 8   Diamide                 1003 non-null   float64\n",
      " 9   E6_Berbamine            1005 non-null   float64\n",
      " 10  Ethanol                 967 non-null    float64\n",
      " 11  Formamide               999 non-null    float64\n",
      " 12  Galactose               962 non-null    float64\n",
      " 13  Hydrogen_Peroxide       769 non-null    float64\n",
      " 14  Hydroquinone            960 non-null    float64\n",
      " 15  Hydroxyurea             944 non-null    float64\n",
      " 16  Indoleacetic_Acid       994 non-null    float64\n",
      " 17  Lactate                 973 non-null    float64\n",
      " 18  Lactose                 1004 non-null   float64\n",
      " 19  Lithium_Chloride        1002 non-null   float64\n",
      " 20  Magnesium_Chloride      964 non-null    float64\n",
      " 21  Magnesium_Sulfate       1006 non-null   float64\n",
      " 22  Maltose                 1005 non-null   float64\n",
      " 23  Mannose                 957 non-null    float64\n",
      " 24  Menadione               1005 non-null   float64\n",
      " 25  Neomycin                1005 non-null   float64\n",
      " 26  Paraquat                1004 non-null   float64\n",
      " 27  Raffinose               662 non-null    float64\n",
      " 28  SDS                     873 non-null    float64\n",
      " 29  Sorbitol                599 non-null    float64\n",
      " 30  Trehalose               1003 non-null   float64\n",
      " 31  Tunicamycin             1006 non-null   float64\n",
      " 32  x4-Hydroxybenzaldehyde  964 non-null    float64\n",
      " 33  x4NQO                   1005 non-null   float64\n",
      " 34  x5-Fluorocytosine       957 non-null    float64\n",
      " 35  x5-Fluorouracil         992 non-null    float64\n",
      " 36  x6-Azauracil            1001 non-null   float64\n",
      " 37  Xylose                  1003 non-null   float64\n",
      " 38  YNB                     1006 non-null   float64\n",
      " 39  YNB:ph3                 979 non-null    float64\n",
      " 40  YNB:ph8                 887 non-null    float64\n",
      " 41  YPD                     1006 non-null   float64\n",
      " 42  YPD:15C                 1005 non-null   float64\n",
      " 43  YPD:37C                 1003 non-null   float64\n",
      " 44  YPD:4C                  806 non-null    float64\n",
      " 45  Zeocin                  957 non-null    float64\n",
      "dtypes: float64(46)\n",
      "memory usage: 370.1+ KB\n"
     ]
    }
   ],
   "source": [
    "# Summary of dataframe\n",
    "df.info()"
   ]
  },
  {
   "cell_type": "code",
   "execution_count": 10,
   "metadata": {},
   "outputs": [
    {
     "data": {
      "text/html": [
       "<div>\n",
       "<style scoped>\n",
       "    .dataframe tbody tr th:only-of-type {\n",
       "        vertical-align: middle;\n",
       "    }\n",
       "\n",
       "    .dataframe tbody tr th {\n",
       "        vertical-align: top;\n",
       "    }\n",
       "\n",
       "    .dataframe thead th {\n",
       "        text-align: right;\n",
       "    }\n",
       "</style>\n",
       "<table border=\"1\" class=\"dataframe\">\n",
       "  <thead>\n",
       "    <tr style=\"text-align: right;\">\n",
       "      <th></th>\n",
       "      <th>Cadmium_Chloride</th>\n",
       "      <th>Caffeine</th>\n",
       "      <th>Calcium_Chloride</th>\n",
       "      <th>Cisplatin</th>\n",
       "      <th>Cobalt_Chloride</th>\n",
       "      <th>Congo_red</th>\n",
       "      <th>Copper</th>\n",
       "      <th>Cycloheximide</th>\n",
       "      <th>Diamide</th>\n",
       "      <th>E6_Berbamine</th>\n",
       "      <th>...</th>\n",
       "      <th>x6-Azauracil</th>\n",
       "      <th>Xylose</th>\n",
       "      <th>YNB</th>\n",
       "      <th>YNB:ph3</th>\n",
       "      <th>YNB:ph8</th>\n",
       "      <th>YPD</th>\n",
       "      <th>YPD:15C</th>\n",
       "      <th>YPD:37C</th>\n",
       "      <th>YPD:4C</th>\n",
       "      <th>Zeocin</th>\n",
       "    </tr>\n",
       "  </thead>\n",
       "  <tbody>\n",
       "    <tr>\n",
       "      <th>count</th>\n",
       "      <td>799.000000</td>\n",
       "      <td>1004.000000</td>\n",
       "      <td>949.000000</td>\n",
       "      <td>990.000000</td>\n",
       "      <td>1007.000000</td>\n",
       "      <td>979.000000</td>\n",
       "      <td>972.000000</td>\n",
       "      <td>1004.000000</td>\n",
       "      <td>1003.000000</td>\n",
       "      <td>1005.000000</td>\n",
       "      <td>...</td>\n",
       "      <td>1001.000000</td>\n",
       "      <td>1003.000000</td>\n",
       "      <td>1006.000000</td>\n",
       "      <td>979.000000</td>\n",
       "      <td>887.000000</td>\n",
       "      <td>1006.000000</td>\n",
       "      <td>1005.000000</td>\n",
       "      <td>1003.000000</td>\n",
       "      <td>806.000000</td>\n",
       "      <td>957.000000</td>\n",
       "    </tr>\n",
       "    <tr>\n",
       "      <th>mean</th>\n",
       "      <td>-0.235763</td>\n",
       "      <td>0.056543</td>\n",
       "      <td>0.012039</td>\n",
       "      <td>-0.080343</td>\n",
       "      <td>-0.021220</td>\n",
       "      <td>-0.580926</td>\n",
       "      <td>0.067722</td>\n",
       "      <td>0.157040</td>\n",
       "      <td>0.139683</td>\n",
       "      <td>0.264369</td>\n",
       "      <td>...</td>\n",
       "      <td>0.112644</td>\n",
       "      <td>0.060641</td>\n",
       "      <td>16.315382</td>\n",
       "      <td>0.007996</td>\n",
       "      <td>0.007482</td>\n",
       "      <td>23.502212</td>\n",
       "      <td>0.047823</td>\n",
       "      <td>-0.140778</td>\n",
       "      <td>-0.190777</td>\n",
       "      <td>0.166791</td>\n",
       "    </tr>\n",
       "    <tr>\n",
       "      <th>std</th>\n",
       "      <td>6.306318</td>\n",
       "      <td>0.910155</td>\n",
       "      <td>0.773159</td>\n",
       "      <td>1.045181</td>\n",
       "      <td>2.808820</td>\n",
       "      <td>6.411729</td>\n",
       "      <td>1.808578</td>\n",
       "      <td>1.683631</td>\n",
       "      <td>4.749402</td>\n",
       "      <td>7.083140</td>\n",
       "      <td>...</td>\n",
       "      <td>0.853002</td>\n",
       "      <td>0.939542</td>\n",
       "      <td>1.034526</td>\n",
       "      <td>0.674851</td>\n",
       "      <td>0.902919</td>\n",
       "      <td>1.815418</td>\n",
       "      <td>2.541834</td>\n",
       "      <td>2.642301</td>\n",
       "      <td>4.649077</td>\n",
       "      <td>6.433438</td>\n",
       "    </tr>\n",
       "    <tr>\n",
       "      <th>min</th>\n",
       "      <td>-10.381891</td>\n",
       "      <td>-4.141899</td>\n",
       "      <td>-2.452206</td>\n",
       "      <td>-4.557306</td>\n",
       "      <td>-6.184913</td>\n",
       "      <td>-13.488314</td>\n",
       "      <td>-8.944908</td>\n",
       "      <td>-5.980597</td>\n",
       "      <td>-17.291493</td>\n",
       "      <td>-12.513969</td>\n",
       "      <td>...</td>\n",
       "      <td>-3.327925</td>\n",
       "      <td>-2.911638</td>\n",
       "      <td>11.981303</td>\n",
       "      <td>-2.570029</td>\n",
       "      <td>-3.724701</td>\n",
       "      <td>16.979292</td>\n",
       "      <td>-6.493270</td>\n",
       "      <td>-7.377041</td>\n",
       "      <td>-9.588223</td>\n",
       "      <td>-13.359268</td>\n",
       "    </tr>\n",
       "    <tr>\n",
       "      <th>25%</th>\n",
       "      <td>-6.456470</td>\n",
       "      <td>-0.507907</td>\n",
       "      <td>-0.498740</td>\n",
       "      <td>-0.741802</td>\n",
       "      <td>-2.288283</td>\n",
       "      <td>-6.620026</td>\n",
       "      <td>-0.665649</td>\n",
       "      <td>-0.963134</td>\n",
       "      <td>-3.193845</td>\n",
       "      <td>-4.880492</td>\n",
       "      <td>...</td>\n",
       "      <td>-0.449021</td>\n",
       "      <td>-0.599287</td>\n",
       "      <td>15.661717</td>\n",
       "      <td>-0.451187</td>\n",
       "      <td>-0.571156</td>\n",
       "      <td>22.380371</td>\n",
       "      <td>-1.879136</td>\n",
       "      <td>-2.168742</td>\n",
       "      <td>-3.680280</td>\n",
       "      <td>-5.159223</td>\n",
       "    </tr>\n",
       "    <tr>\n",
       "      <th>50%</th>\n",
       "      <td>1.022356</td>\n",
       "      <td>0.067418</td>\n",
       "      <td>0.042018</td>\n",
       "      <td>-0.019068</td>\n",
       "      <td>-0.377311</td>\n",
       "      <td>-0.568692</td>\n",
       "      <td>0.396090</td>\n",
       "      <td>0.234640</td>\n",
       "      <td>0.892107</td>\n",
       "      <td>-2.475193</td>\n",
       "      <td>...</td>\n",
       "      <td>0.146145</td>\n",
       "      <td>0.047475</td>\n",
       "      <td>16.358272</td>\n",
       "      <td>0.024450</td>\n",
       "      <td>-0.003055</td>\n",
       "      <td>23.403000</td>\n",
       "      <td>-0.132709</td>\n",
       "      <td>-0.047865</td>\n",
       "      <td>-0.977779</td>\n",
       "      <td>-2.015229</td>\n",
       "    </tr>\n",
       "    <tr>\n",
       "      <th>75%</th>\n",
       "      <td>5.813172</td>\n",
       "      <td>0.622523</td>\n",
       "      <td>0.503318</td>\n",
       "      <td>0.645479</td>\n",
       "      <td>1.998527</td>\n",
       "      <td>4.537839</td>\n",
       "      <td>1.235156</td>\n",
       "      <td>1.324370</td>\n",
       "      <td>3.327036</td>\n",
       "      <td>4.487006</td>\n",
       "      <td>...</td>\n",
       "      <td>0.700031</td>\n",
       "      <td>0.717306</td>\n",
       "      <td>17.006638</td>\n",
       "      <td>0.479301</td>\n",
       "      <td>0.628253</td>\n",
       "      <td>24.629824</td>\n",
       "      <td>1.832583</td>\n",
       "      <td>1.966580</td>\n",
       "      <td>2.605938</td>\n",
       "      <td>5.751830</td>\n",
       "    </tr>\n",
       "    <tr>\n",
       "      <th>max</th>\n",
       "      <td>12.876948</td>\n",
       "      <td>3.372236</td>\n",
       "      <td>2.689781</td>\n",
       "      <td>3.763224</td>\n",
       "      <td>8.467436</td>\n",
       "      <td>15.984204</td>\n",
       "      <td>4.924384</td>\n",
       "      <td>6.516210</td>\n",
       "      <td>11.349569</td>\n",
       "      <td>23.116821</td>\n",
       "      <td>...</td>\n",
       "      <td>2.816535</td>\n",
       "      <td>3.286086</td>\n",
       "      <td>19.067704</td>\n",
       "      <td>1.773026</td>\n",
       "      <td>2.956204</td>\n",
       "      <td>29.985755</td>\n",
       "      <td>7.287769</td>\n",
       "      <td>7.474741</td>\n",
       "      <td>15.552609</td>\n",
       "      <td>16.662919</td>\n",
       "    </tr>\n",
       "  </tbody>\n",
       "</table>\n",
       "<p>8 rows × 46 columns</p>\n",
       "</div>"
      ],
      "text/plain": [
       "       Cadmium_Chloride     Caffeine  Calcium_Chloride   Cisplatin  \\\n",
       "count        799.000000  1004.000000        949.000000  990.000000   \n",
       "mean          -0.235763     0.056543          0.012039   -0.080343   \n",
       "std            6.306318     0.910155          0.773159    1.045181   \n",
       "min          -10.381891    -4.141899         -2.452206   -4.557306   \n",
       "25%           -6.456470    -0.507907         -0.498740   -0.741802   \n",
       "50%            1.022356     0.067418          0.042018   -0.019068   \n",
       "75%            5.813172     0.622523          0.503318    0.645479   \n",
       "max           12.876948     3.372236          2.689781    3.763224   \n",
       "\n",
       "       Cobalt_Chloride   Congo_red      Copper  Cycloheximide      Diamide  \\\n",
       "count      1007.000000  979.000000  972.000000    1004.000000  1003.000000   \n",
       "mean         -0.021220   -0.580926    0.067722       0.157040     0.139683   \n",
       "std           2.808820    6.411729    1.808578       1.683631     4.749402   \n",
       "min          -6.184913  -13.488314   -8.944908      -5.980597   -17.291493   \n",
       "25%          -2.288283   -6.620026   -0.665649      -0.963134    -3.193845   \n",
       "50%          -0.377311   -0.568692    0.396090       0.234640     0.892107   \n",
       "75%           1.998527    4.537839    1.235156       1.324370     3.327036   \n",
       "max           8.467436   15.984204    4.924384       6.516210    11.349569   \n",
       "\n",
       "       E6_Berbamine  ...  x6-Azauracil       Xylose          YNB     YNB:ph3  \\\n",
       "count   1005.000000  ...   1001.000000  1003.000000  1006.000000  979.000000   \n",
       "mean       0.264369  ...      0.112644     0.060641    16.315382    0.007996   \n",
       "std        7.083140  ...      0.853002     0.939542     1.034526    0.674851   \n",
       "min      -12.513969  ...     -3.327925    -2.911638    11.981303   -2.570029   \n",
       "25%       -4.880492  ...     -0.449021    -0.599287    15.661717   -0.451187   \n",
       "50%       -2.475193  ...      0.146145     0.047475    16.358272    0.024450   \n",
       "75%        4.487006  ...      0.700031     0.717306    17.006638    0.479301   \n",
       "max       23.116821  ...      2.816535     3.286086    19.067704    1.773026   \n",
       "\n",
       "          YNB:ph8          YPD      YPD:15C      YPD:37C      YPD:4C  \\\n",
       "count  887.000000  1006.000000  1005.000000  1003.000000  806.000000   \n",
       "mean     0.007482    23.502212     0.047823    -0.140778   -0.190777   \n",
       "std      0.902919     1.815418     2.541834     2.642301    4.649077   \n",
       "min     -3.724701    16.979292    -6.493270    -7.377041   -9.588223   \n",
       "25%     -0.571156    22.380371    -1.879136    -2.168742   -3.680280   \n",
       "50%     -0.003055    23.403000    -0.132709    -0.047865   -0.977779   \n",
       "75%      0.628253    24.629824     1.832583     1.966580    2.605938   \n",
       "max      2.956204    29.985755     7.287769     7.474741   15.552609   \n",
       "\n",
       "           Zeocin  \n",
       "count  957.000000  \n",
       "mean     0.166791  \n",
       "std      6.433438  \n",
       "min    -13.359268  \n",
       "25%     -5.159223  \n",
       "50%     -2.015229  \n",
       "75%      5.751830  \n",
       "max     16.662919  \n",
       "\n",
       "[8 rows x 46 columns]"
      ]
     },
     "execution_count": 10,
     "metadata": {},
     "output_type": "execute_result"
    }
   ],
   "source": [
    "# calculate some summary statistics\n",
    "df.describe()"
   ]
  },
  {
   "cell_type": "markdown",
   "metadata": {},
   "source": [
    "### Accessing data in a DataFrame\n",
    "\n",
    "Our columns in the dataframe object are individual Series of data. We can access them by referring to the column name e.g. dataframe['column-name']. For example to access the *Caffeine* column run this:"
   ]
  },
  {
   "cell_type": "code",
   "execution_count": 11,
   "metadata": {},
   "outputs": [
    {
     "name": "stdout",
     "output_type": "stream",
     "text": [
      "A01_01    0.279993\n",
      "A01_02   -0.206326\n",
      "A01_03   -0.127960\n",
      "A01_04    0.878392\n",
      "A01_05   -1.353169\n",
      "Name: Caffeine, dtype: float64\n",
      "============= or ===========\n",
      "A01_01    0.279993\n",
      "A01_02   -0.206326\n",
      "A01_03   -0.127960\n",
      "A01_04    0.878392\n",
      "A01_05   -1.353169\n",
      "Name: Caffeine, dtype: float64\n"
     ]
    }
   ],
   "source": [
    "print(df['Caffeine'].head())\n",
    "print('============= or ===========')\n",
    "print(df.Caffeine.head())"
   ]
  },
  {
   "cell_type": "markdown",
   "metadata": {},
   "source": [
    "To filter by row we have to use the *iloc* or *loc* function on the *dataframe*. The *iloc* function allows to filter by the integer index of the row while the *loc* function allows to index by the index label (accession id):"
   ]
  },
  {
   "cell_type": "code",
   "execution_count": 12,
   "metadata": {},
   "outputs": [
    {
     "data": {
      "text/plain": [
       "-0.127959825210201"
      ]
     },
     "execution_count": 12,
     "metadata": {},
     "output_type": "execute_result"
    }
   ],
   "source": [
    "df.iloc[2].Caffeine"
   ]
  },
  {
   "cell_type": "code",
   "execution_count": 13,
   "metadata": {},
   "outputs": [
    {
     "data": {
      "text/plain": [
       "-0.127959825210201"
      ]
     },
     "execution_count": 13,
     "metadata": {},
     "output_type": "execute_result"
    }
   ],
   "source": [
    "df.loc['A01_03'].Caffeine"
   ]
  },
  {
   "cell_type": "markdown",
   "metadata": {},
   "source": [
    "It is also possible to retrieve multiple rows either by specifying the exact row index labels or integer positions:"
   ]
  },
  {
   "cell_type": "code",
   "execution_count": 14,
   "metadata": {},
   "outputs": [
    {
     "data": {
      "text/plain": [
       "A01_02   -0.206326\n",
       "A01_06    1.655436\n",
       "A01_07   -1.423605\n",
       "A01_10   -2.787328\n",
       "Name: Caffeine, dtype: float64"
      ]
     },
     "execution_count": 14,
     "metadata": {},
     "output_type": "execute_result"
    }
   ],
   "source": [
    "df.iloc[[1, 5, 6, 9]].Caffeine"
   ]
  },
  {
   "cell_type": "code",
   "execution_count": 15,
   "metadata": {},
   "outputs": [
    {
     "data": {
      "text/plain": [
       "A01_02   -0.206326\n",
       "A01_06    1.655436\n",
       "A01_07   -1.423605\n",
       "A01_10   -2.787328\n",
       "Name: Caffeine, dtype: float64"
      ]
     },
     "execution_count": 15,
     "metadata": {},
     "output_type": "execute_result"
    }
   ],
   "source": [
    "df.loc[['A01_02', 'A01_06', 'A01_07', 'A01_10']].Caffeine"
   ]
  },
  {
   "cell_type": "code",
   "execution_count": 16,
   "metadata": {},
   "outputs": [
    {
     "data": {
      "text/html": [
       "<div>\n",
       "<style scoped>\n",
       "    .dataframe tbody tr th:only-of-type {\n",
       "        vertical-align: middle;\n",
       "    }\n",
       "\n",
       "    .dataframe tbody tr th {\n",
       "        vertical-align: top;\n",
       "    }\n",
       "\n",
       "    .dataframe thead th {\n",
       "        text-align: right;\n",
       "    }\n",
       "</style>\n",
       "<table border=\"1\" class=\"dataframe\">\n",
       "  <thead>\n",
       "    <tr style=\"text-align: right;\">\n",
       "      <th></th>\n",
       "      <th>Caffeine</th>\n",
       "      <th>Cisplatin</th>\n",
       "    </tr>\n",
       "  </thead>\n",
       "  <tbody>\n",
       "    <tr>\n",
       "      <th>A01_01</th>\n",
       "      <td>0.279993</td>\n",
       "      <td>1.658179</td>\n",
       "    </tr>\n",
       "    <tr>\n",
       "      <th>A01_02</th>\n",
       "      <td>-0.206326</td>\n",
       "      <td>-0.918012</td>\n",
       "    </tr>\n",
       "    <tr>\n",
       "      <th>A01_03</th>\n",
       "      <td>-0.127960</td>\n",
       "      <td>-2.712088</td>\n",
       "    </tr>\n",
       "    <tr>\n",
       "      <th>A01_04</th>\n",
       "      <td>0.878392</td>\n",
       "      <td>-0.827358</td>\n",
       "    </tr>\n",
       "    <tr>\n",
       "      <th>A01_05</th>\n",
       "      <td>-1.353169</td>\n",
       "      <td>-1.137234</td>\n",
       "    </tr>\n",
       "    <tr>\n",
       "      <th>A01_06</th>\n",
       "      <td>1.655436</td>\n",
       "      <td>-2.044903</td>\n",
       "    </tr>\n",
       "    <tr>\n",
       "      <th>A01_07</th>\n",
       "      <td>-1.423605</td>\n",
       "      <td>-1.714243</td>\n",
       "    </tr>\n",
       "    <tr>\n",
       "      <th>A01_08</th>\n",
       "      <td>1.750342</td>\n",
       "      <td>0.306306</td>\n",
       "    </tr>\n",
       "    <tr>\n",
       "      <th>A01_09</th>\n",
       "      <td>-0.559696</td>\n",
       "      <td>-0.879233</td>\n",
       "    </tr>\n",
       "    <tr>\n",
       "      <th>A01_10</th>\n",
       "      <td>-2.787328</td>\n",
       "      <td>-0.239611</td>\n",
       "    </tr>\n",
       "  </tbody>\n",
       "</table>\n",
       "</div>"
      ],
      "text/plain": [
       "        Caffeine  Cisplatin\n",
       "A01_01  0.279993   1.658179\n",
       "A01_02 -0.206326  -0.918012\n",
       "A01_03 -0.127960  -2.712088\n",
       "A01_04  0.878392  -0.827358\n",
       "A01_05 -1.353169  -1.137234\n",
       "A01_06  1.655436  -2.044903\n",
       "A01_07 -1.423605  -1.714243\n",
       "A01_08  1.750342   0.306306\n",
       "A01_09 -0.559696  -0.879233\n",
       "A01_10 -2.787328  -0.239611"
      ]
     },
     "execution_count": 16,
     "metadata": {},
     "output_type": "execute_result"
    }
   ],
   "source": [
    "# retrieve the first 10 rows for the columns Caffeine (column 1 ) and Cisplatin (column 2)\n",
    "df.iloc[:10,[1,3]]"
   ]
  },
  {
   "cell_type": "markdown",
   "metadata": {},
   "source": [
    "### Filtering data\n",
    "\n",
    "We can also apply conditions to the data we are inspecting, such as to filter our data.\n",
    "Let's examine the Caffeine column and check the lowest value."
   ]
  },
  {
   "cell_type": "code",
   "execution_count": 17,
   "metadata": {},
   "outputs": [
    {
     "data": {
      "text/plain": [
       "-4.14189858085831"
      ]
     },
     "execution_count": 17,
     "metadata": {},
     "output_type": "execute_result"
    }
   ],
   "source": [
    "df.Caffeine.min()"
   ]
  },
  {
   "cell_type": "markdown",
   "metadata": {},
   "source": [
    "Let's now filter the Caffeine column for values that are greater than 0 "
   ]
  },
  {
   "cell_type": "code",
   "execution_count": 18,
   "metadata": {},
   "outputs": [
    {
     "data": {
      "text/plain": [
       "A01_01     True\n",
       "A01_02    False\n",
       "A01_03    False\n",
       "A01_04     True\n",
       "A01_05    False\n",
       "          ...  \n",
       "A11_92    False\n",
       "A11_93     True\n",
       "A11_94     True\n",
       "A11_95    False\n",
       "A11_96    False\n",
       "Name: Caffeine, Length: 1008, dtype: bool"
      ]
     },
     "execution_count": 18,
     "metadata": {},
     "output_type": "execute_result"
    }
   ],
   "source": [
    "df.Caffeine > 0"
   ]
  },
  {
   "cell_type": "markdown",
   "metadata": {},
   "source": [
    "This returns a new *Series* of *True*/*False* values though. To actually filter the data, we need to use this *Series* to mask our original *DataFrame*"
   ]
  },
  {
   "cell_type": "code",
   "execution_count": 19,
   "metadata": {},
   "outputs": [
    {
     "data": {
      "text/html": [
       "<div>\n",
       "<style scoped>\n",
       "    .dataframe tbody tr th:only-of-type {\n",
       "        vertical-align: middle;\n",
       "    }\n",
       "\n",
       "    .dataframe tbody tr th {\n",
       "        vertical-align: top;\n",
       "    }\n",
       "\n",
       "    .dataframe thead th {\n",
       "        text-align: right;\n",
       "    }\n",
       "</style>\n",
       "<table border=\"1\" class=\"dataframe\">\n",
       "  <thead>\n",
       "    <tr style=\"text-align: right;\">\n",
       "      <th></th>\n",
       "      <th>Cadmium_Chloride</th>\n",
       "      <th>Caffeine</th>\n",
       "      <th>Calcium_Chloride</th>\n",
       "      <th>Cisplatin</th>\n",
       "      <th>Cobalt_Chloride</th>\n",
       "      <th>Congo_red</th>\n",
       "      <th>Copper</th>\n",
       "      <th>Cycloheximide</th>\n",
       "      <th>Diamide</th>\n",
       "      <th>E6_Berbamine</th>\n",
       "      <th>...</th>\n",
       "      <th>x6-Azauracil</th>\n",
       "      <th>Xylose</th>\n",
       "      <th>YNB</th>\n",
       "      <th>YNB:ph3</th>\n",
       "      <th>YNB:ph8</th>\n",
       "      <th>YPD</th>\n",
       "      <th>YPD:15C</th>\n",
       "      <th>YPD:37C</th>\n",
       "      <th>YPD:4C</th>\n",
       "      <th>Zeocin</th>\n",
       "    </tr>\n",
       "  </thead>\n",
       "  <tbody>\n",
       "    <tr>\n",
       "      <th>A01_01</th>\n",
       "      <td>-7.323520</td>\n",
       "      <td>0.279993</td>\n",
       "      <td>0.313118</td>\n",
       "      <td>1.658179</td>\n",
       "      <td>-1.604442</td>\n",
       "      <td>5.841617</td>\n",
       "      <td>-4.130950</td>\n",
       "      <td>0.821226</td>\n",
       "      <td>3.622602</td>\n",
       "      <td>-0.378747</td>\n",
       "      <td>...</td>\n",
       "      <td>1.199054</td>\n",
       "      <td>-0.309149</td>\n",
       "      <td>17.470822</td>\n",
       "      <td>0.055225</td>\n",
       "      <td>-0.184268</td>\n",
       "      <td>24.548971</td>\n",
       "      <td>0.712171</td>\n",
       "      <td>0.890842</td>\n",
       "      <td>4.118372</td>\n",
       "      <td>8.592818</td>\n",
       "    </tr>\n",
       "    <tr>\n",
       "      <th>A01_04</th>\n",
       "      <td>-6.147649</td>\n",
       "      <td>0.878392</td>\n",
       "      <td>-0.563331</td>\n",
       "      <td>-0.827358</td>\n",
       "      <td>-1.291270</td>\n",
       "      <td>2.753851</td>\n",
       "      <td>-2.268121</td>\n",
       "      <td>0.867456</td>\n",
       "      <td>-6.832079</td>\n",
       "      <td>-1.970630</td>\n",
       "      <td>...</td>\n",
       "      <td>0.054694</td>\n",
       "      <td>-0.739040</td>\n",
       "      <td>15.575856</td>\n",
       "      <td>-1.690867</td>\n",
       "      <td>-0.840344</td>\n",
       "      <td>20.893646</td>\n",
       "      <td>-0.636280</td>\n",
       "      <td>0.053258</td>\n",
       "      <td>-3.196936</td>\n",
       "      <td>0.294462</td>\n",
       "    </tr>\n",
       "    <tr>\n",
       "      <th>A01_06</th>\n",
       "      <td>9.394562</td>\n",
       "      <td>1.655436</td>\n",
       "      <td>0.531654</td>\n",
       "      <td>-2.044903</td>\n",
       "      <td>1.577325</td>\n",
       "      <td>-5.769939</td>\n",
       "      <td>1.355905</td>\n",
       "      <td>2.336068</td>\n",
       "      <td>4.038331</td>\n",
       "      <td>-2.917101</td>\n",
       "      <td>...</td>\n",
       "      <td>0.591233</td>\n",
       "      <td>-0.134019</td>\n",
       "      <td>16.085601</td>\n",
       "      <td>-0.100294</td>\n",
       "      <td>0.710547</td>\n",
       "      <td>23.549116</td>\n",
       "      <td>-2.680231</td>\n",
       "      <td>2.025716</td>\n",
       "      <td>-0.889829</td>\n",
       "      <td>-4.108786</td>\n",
       "    </tr>\n",
       "    <tr>\n",
       "      <th>A01_08</th>\n",
       "      <td>-7.585476</td>\n",
       "      <td>1.750342</td>\n",
       "      <td>0.941181</td>\n",
       "      <td>0.306306</td>\n",
       "      <td>-2.997501</td>\n",
       "      <td>0.063007</td>\n",
       "      <td>-4.352137</td>\n",
       "      <td>2.634605</td>\n",
       "      <td>3.147146</td>\n",
       "      <td>8.292883</td>\n",
       "      <td>...</td>\n",
       "      <td>0.043294</td>\n",
       "      <td>-0.826648</td>\n",
       "      <td>16.210856</td>\n",
       "      <td>NaN</td>\n",
       "      <td>-0.538390</td>\n",
       "      <td>23.595423</td>\n",
       "      <td>-1.449024</td>\n",
       "      <td>1.679693</td>\n",
       "      <td>-2.227455</td>\n",
       "      <td>-5.773160</td>\n",
       "    </tr>\n",
       "    <tr>\n",
       "      <th>A01_13</th>\n",
       "      <td>6.099126</td>\n",
       "      <td>1.193630</td>\n",
       "      <td>-0.460481</td>\n",
       "      <td>-2.254822</td>\n",
       "      <td>-1.737934</td>\n",
       "      <td>-6.773013</td>\n",
       "      <td>1.847423</td>\n",
       "      <td>1.492433</td>\n",
       "      <td>5.377797</td>\n",
       "      <td>-2.763472</td>\n",
       "      <td>...</td>\n",
       "      <td>0.428124</td>\n",
       "      <td>-0.447422</td>\n",
       "      <td>15.707533</td>\n",
       "      <td>1.328875</td>\n",
       "      <td>-0.676125</td>\n",
       "      <td>22.880547</td>\n",
       "      <td>-4.488093</td>\n",
       "      <td>3.399301</td>\n",
       "      <td>-5.313911</td>\n",
       "      <td>-4.854207</td>\n",
       "    </tr>\n",
       "    <tr>\n",
       "      <th>...</th>\n",
       "      <td>...</td>\n",
       "      <td>...</td>\n",
       "      <td>...</td>\n",
       "      <td>...</td>\n",
       "      <td>...</td>\n",
       "      <td>...</td>\n",
       "      <td>...</td>\n",
       "      <td>...</td>\n",
       "      <td>...</td>\n",
       "      <td>...</td>\n",
       "      <td>...</td>\n",
       "      <td>...</td>\n",
       "      <td>...</td>\n",
       "      <td>...</td>\n",
       "      <td>...</td>\n",
       "      <td>...</td>\n",
       "      <td>...</td>\n",
       "      <td>...</td>\n",
       "      <td>...</td>\n",
       "      <td>...</td>\n",
       "      <td>...</td>\n",
       "    </tr>\n",
       "    <tr>\n",
       "      <th>A11_89</th>\n",
       "      <td>-0.781114</td>\n",
       "      <td>1.079321</td>\n",
       "      <td>0.219939</td>\n",
       "      <td>0.771153</td>\n",
       "      <td>1.955114</td>\n",
       "      <td>5.559785</td>\n",
       "      <td>4.924384</td>\n",
       "      <td>2.472066</td>\n",
       "      <td>2.813091</td>\n",
       "      <td>14.695409</td>\n",
       "      <td>...</td>\n",
       "      <td>-0.372606</td>\n",
       "      <td>0.096194</td>\n",
       "      <td>16.820080</td>\n",
       "      <td>0.619160</td>\n",
       "      <td>NaN</td>\n",
       "      <td>24.101895</td>\n",
       "      <td>3.574523</td>\n",
       "      <td>2.409968</td>\n",
       "      <td>4.127189</td>\n",
       "      <td>15.004739</td>\n",
       "    </tr>\n",
       "    <tr>\n",
       "      <th>A11_90</th>\n",
       "      <td>NaN</td>\n",
       "      <td>0.645842</td>\n",
       "      <td>NaN</td>\n",
       "      <td>NaN</td>\n",
       "      <td>-0.890742</td>\n",
       "      <td>13.016383</td>\n",
       "      <td>-5.268835</td>\n",
       "      <td>-0.468322</td>\n",
       "      <td>2.211619</td>\n",
       "      <td>-4.457251</td>\n",
       "      <td>...</td>\n",
       "      <td>0.058875</td>\n",
       "      <td>-1.051974</td>\n",
       "      <td>17.411414</td>\n",
       "      <td>-0.035335</td>\n",
       "      <td>NaN</td>\n",
       "      <td>25.180528</td>\n",
       "      <td>-1.240811</td>\n",
       "      <td>3.017025</td>\n",
       "      <td>-2.024357</td>\n",
       "      <td>-5.818075</td>\n",
       "    </tr>\n",
       "    <tr>\n",
       "      <th>A11_91</th>\n",
       "      <td>-6.343767</td>\n",
       "      <td>0.438523</td>\n",
       "      <td>-0.322617</td>\n",
       "      <td>1.973411</td>\n",
       "      <td>4.515720</td>\n",
       "      <td>-8.495414</td>\n",
       "      <td>NaN</td>\n",
       "      <td>-0.224670</td>\n",
       "      <td>3.258043</td>\n",
       "      <td>2.732642</td>\n",
       "      <td>...</td>\n",
       "      <td>0.114539</td>\n",
       "      <td>1.206215</td>\n",
       "      <td>16.871327</td>\n",
       "      <td>1.084758</td>\n",
       "      <td>NaN</td>\n",
       "      <td>22.730956</td>\n",
       "      <td>4.994928</td>\n",
       "      <td>-2.030958</td>\n",
       "      <td>-0.282208</td>\n",
       "      <td>8.456099</td>\n",
       "    </tr>\n",
       "    <tr>\n",
       "      <th>A11_93</th>\n",
       "      <td>-10.147285</td>\n",
       "      <td>1.145573</td>\n",
       "      <td>0.048948</td>\n",
       "      <td>-1.089350</td>\n",
       "      <td>0.539833</td>\n",
       "      <td>2.720952</td>\n",
       "      <td>-3.445357</td>\n",
       "      <td>0.891066</td>\n",
       "      <td>3.003684</td>\n",
       "      <td>-1.667592</td>\n",
       "      <td>...</td>\n",
       "      <td>-0.317916</td>\n",
       "      <td>1.977915</td>\n",
       "      <td>15.687951</td>\n",
       "      <td>-0.098451</td>\n",
       "      <td>NaN</td>\n",
       "      <td>21.553930</td>\n",
       "      <td>2.977722</td>\n",
       "      <td>-1.913176</td>\n",
       "      <td>4.279626</td>\n",
       "      <td>-4.650492</td>\n",
       "    </tr>\n",
       "    <tr>\n",
       "      <th>A11_94</th>\n",
       "      <td>NaN</td>\n",
       "      <td>0.321844</td>\n",
       "      <td>NaN</td>\n",
       "      <td>1.016712</td>\n",
       "      <td>1.801923</td>\n",
       "      <td>-4.157083</td>\n",
       "      <td>-0.097598</td>\n",
       "      <td>-1.954080</td>\n",
       "      <td>-1.739499</td>\n",
       "      <td>-6.520551</td>\n",
       "      <td>...</td>\n",
       "      <td>-1.698334</td>\n",
       "      <td>1.363267</td>\n",
       "      <td>17.357844</td>\n",
       "      <td>0.390511</td>\n",
       "      <td>NaN</td>\n",
       "      <td>23.977236</td>\n",
       "      <td>0.078992</td>\n",
       "      <td>1.801422</td>\n",
       "      <td>NaN</td>\n",
       "      <td>-0.499069</td>\n",
       "    </tr>\n",
       "  </tbody>\n",
       "</table>\n",
       "<p>534 rows × 46 columns</p>\n",
       "</div>"
      ],
      "text/plain": [
       "        Cadmium_Chloride  Caffeine  Calcium_Chloride  Cisplatin  \\\n",
       "A01_01         -7.323520  0.279993          0.313118   1.658179   \n",
       "A01_04         -6.147649  0.878392         -0.563331  -0.827358   \n",
       "A01_06          9.394562  1.655436          0.531654  -2.044903   \n",
       "A01_08         -7.585476  1.750342          0.941181   0.306306   \n",
       "A01_13          6.099126  1.193630         -0.460481  -2.254822   \n",
       "...                  ...       ...               ...        ...   \n",
       "A11_89         -0.781114  1.079321          0.219939   0.771153   \n",
       "A11_90               NaN  0.645842               NaN        NaN   \n",
       "A11_91         -6.343767  0.438523         -0.322617   1.973411   \n",
       "A11_93        -10.147285  1.145573          0.048948  -1.089350   \n",
       "A11_94               NaN  0.321844               NaN   1.016712   \n",
       "\n",
       "        Cobalt_Chloride  Congo_red    Copper  Cycloheximide   Diamide  \\\n",
       "A01_01        -1.604442   5.841617 -4.130950       0.821226  3.622602   \n",
       "A01_04        -1.291270   2.753851 -2.268121       0.867456 -6.832079   \n",
       "A01_06         1.577325  -5.769939  1.355905       2.336068  4.038331   \n",
       "A01_08        -2.997501   0.063007 -4.352137       2.634605  3.147146   \n",
       "A01_13        -1.737934  -6.773013  1.847423       1.492433  5.377797   \n",
       "...                 ...        ...       ...            ...       ...   \n",
       "A11_89         1.955114   5.559785  4.924384       2.472066  2.813091   \n",
       "A11_90        -0.890742  13.016383 -5.268835      -0.468322  2.211619   \n",
       "A11_91         4.515720  -8.495414       NaN      -0.224670  3.258043   \n",
       "A11_93         0.539833   2.720952 -3.445357       0.891066  3.003684   \n",
       "A11_94         1.801923  -4.157083 -0.097598      -1.954080 -1.739499   \n",
       "\n",
       "        E6_Berbamine  ...  x6-Azauracil    Xylose        YNB   YNB:ph3  \\\n",
       "A01_01     -0.378747  ...      1.199054 -0.309149  17.470822  0.055225   \n",
       "A01_04     -1.970630  ...      0.054694 -0.739040  15.575856 -1.690867   \n",
       "A01_06     -2.917101  ...      0.591233 -0.134019  16.085601 -0.100294   \n",
       "A01_08      8.292883  ...      0.043294 -0.826648  16.210856       NaN   \n",
       "A01_13     -2.763472  ...      0.428124 -0.447422  15.707533  1.328875   \n",
       "...              ...  ...           ...       ...        ...       ...   \n",
       "A11_89     14.695409  ...     -0.372606  0.096194  16.820080  0.619160   \n",
       "A11_90     -4.457251  ...      0.058875 -1.051974  17.411414 -0.035335   \n",
       "A11_91      2.732642  ...      0.114539  1.206215  16.871327  1.084758   \n",
       "A11_93     -1.667592  ...     -0.317916  1.977915  15.687951 -0.098451   \n",
       "A11_94     -6.520551  ...     -1.698334  1.363267  17.357844  0.390511   \n",
       "\n",
       "         YNB:ph8        YPD   YPD:15C   YPD:37C    YPD:4C     Zeocin  \n",
       "A01_01 -0.184268  24.548971  0.712171  0.890842  4.118372   8.592818  \n",
       "A01_04 -0.840344  20.893646 -0.636280  0.053258 -3.196936   0.294462  \n",
       "A01_06  0.710547  23.549116 -2.680231  2.025716 -0.889829  -4.108786  \n",
       "A01_08 -0.538390  23.595423 -1.449024  1.679693 -2.227455  -5.773160  \n",
       "A01_13 -0.676125  22.880547 -4.488093  3.399301 -5.313911  -4.854207  \n",
       "...          ...        ...       ...       ...       ...        ...  \n",
       "A11_89       NaN  24.101895  3.574523  2.409968  4.127189  15.004739  \n",
       "A11_90       NaN  25.180528 -1.240811  3.017025 -2.024357  -5.818075  \n",
       "A11_91       NaN  22.730956  4.994928 -2.030958 -0.282208   8.456099  \n",
       "A11_93       NaN  21.553930  2.977722 -1.913176  4.279626  -4.650492  \n",
       "A11_94       NaN  23.977236  0.078992  1.801422       NaN  -0.499069  \n",
       "\n",
       "[534 rows x 46 columns]"
      ]
     },
     "execution_count": 19,
     "metadata": {},
     "output_type": "execute_result"
    }
   ],
   "source": [
    "df[df.Caffeine > 0]"
   ]
  },
  {
   "cell_type": "markdown",
   "metadata": {},
   "source": [
    "To check that there are no values below 0 run the *min()* function again"
   ]
  },
  {
   "cell_type": "code",
   "execution_count": 20,
   "metadata": {},
   "outputs": [
    {
     "data": {
      "text/plain": [
       "0.0032293928665531"
      ]
     },
     "execution_count": 20,
     "metadata": {},
     "output_type": "execute_result"
    }
   ],
   "source": [
    "df[df.Caffeine > 0].Caffeine.min()"
   ]
  },
  {
   "cell_type": "markdown",
   "metadata": {},
   "source": [
    "Some of our values have missing values that are represented in the output as `NaN`. Often we can't work with them. One way to deal with them is to drop the rows that contain them. First let's check how many missing values we have."
   ]
  },
  {
   "cell_type": "code",
   "execution_count": 21,
   "metadata": {},
   "outputs": [
    {
     "name": "stdout",
     "output_type": "stream",
     "text": [
      "A05_12   NaN\n",
      "A09_65   NaN\n",
      "A10_01   NaN\n",
      "A11_96   NaN\n",
      "Name: Caffeine, dtype: float64\n"
     ]
    }
   ],
   "source": [
    "print(df.Caffeine[df.Caffeine.isnull()])"
   ]
  },
  {
   "cell_type": "code",
   "execution_count": 22,
   "metadata": {},
   "outputs": [
    {
     "name": "stdout",
     "output_type": "stream",
     "text": [
      "Series([], Name: Caffeine, dtype: float64)\n"
     ]
    }
   ],
   "source": [
    "df.dropna(subset=['Caffeine'], inplace=True)\n",
    "print(df.Caffeine[df.Caffeine.isnull()])"
   ]
  },
  {
   "cell_type": "markdown",
   "metadata": {},
   "source": [
    "### Plotting pandas dataframes\n",
    "\n",
    "The *DataFrame* has a built in plotting functions (i.e `pd.hist()` or `pd.plot()`) that allows to create simple plots using matplotlib internally. For more advanced plotting functions, one can use the *matplotlib* library directly."
   ]
  },
  {
   "cell_type": "code",
   "execution_count": 23,
   "metadata": {},
   "outputs": [
    {
     "data": {
      "text/plain": [
       "array([[<matplotlib.axes._subplots.AxesSubplot object at 0x7f8ca4a5ccf8>,\n",
       "        <matplotlib.axes._subplots.AxesSubplot object at 0x7f8ca4b633c8>]],\n",
       "      dtype=object)"
      ]
     },
     "execution_count": 23,
     "metadata": {},
     "output_type": "execute_result"
    },
    {
     "data": {
      "image/png": "[encoded data removed]",
      "text/plain": [
       "<Figure size 432x288 with 2 Axes>"
      ]
     },
     "metadata": {
      "needs_background": "light"
     },
     "output_type": "display_data"
    }
   ],
   "source": [
    "df[['Caffeine','Copper']].hist()"
   ]
  },
  {
   "cell_type": "code",
   "execution_count": 24,
   "metadata": {},
   "outputs": [
    {
     "data": {
      "text/plain": [
       "<matplotlib.axes._subplots.AxesSubplot at 0x7f8ca4cb8a90>"
      ]
     },
     "execution_count": 24,
     "metadata": {},
     "output_type": "execute_result"
    },
    {
     "data": {
      "image/png": "[encoded data removed]",
      "text/plain": [
       "<Figure size 432x288 with 1 Axes>"
      ]
     },
     "metadata": {
      "needs_background": "light"
     },
     "output_type": "display_data"
    }
   ],
   "source": [
    "df[['Caffeine','Copper']].plot(kind='hist')"
   ]
  },
  {
   "cell_type": "markdown",
   "metadata": {},
   "source": [
    "### Plotting with matplotlib\n",
    "\n",
    "We don't have to rely on pandas plotting functionality but can also use matplot lib to visualize our phenotype data.  Let’s have a look at the relationship between two phenotypes in our dataframe. To save typing later on, we can extract the Series for “Caffeine” and “Copper” by assigning each to a new variable, x and y, respectively."
   ]
  },
  {
   "cell_type": "code",
   "execution_count": 25,
   "metadata": {},
   "outputs": [],
   "source": [
    "df.dropna(inplace=True)\n",
    "x = df.Sorbitol\n",
    "y = df.Trehalose"
   ]
  },
  {
   "cell_type": "markdown",
   "metadata": {},
   "source": [
    "Then we can plot them as a scatter chart by adding:"
   ]
  },
  {
   "cell_type": "code",
   "execution_count": 26,
   "metadata": {},
   "outputs": [
    {
     "data": {
      "text/plain": [
       "<matplotlib.collections.PathCollection at 0x7f8ca4acc748>"
      ]
     },
     "execution_count": 26,
     "metadata": {},
     "output_type": "execute_result"
    },
    {
     "data": {
      "image/png": "[encoded data removed]",
      "text/plain": [
       "<Figure size 432x288 with 1 Axes>"
      ]
     },
     "metadata": {
      "needs_background": "light"
     },
     "output_type": "display_data"
    }
   ],
   "source": [
    "plt.scatter(x, y)\n",
    "# or plt.savefig(\"name.png\")"
   ]
  },
  {
   "cell_type": "markdown",
   "metadata": {},
   "source": [
    "Now we are going to do some basic statistics so we can plot a line of linear regression on our chart.  \n",
    "Let’s plot a linear regression through the data. Python has a library called scipy that contains a lot of statistics routines. We can import it:"
   ]
  },
  {
   "cell_type": "code",
   "execution_count": 27,
   "metadata": {},
   "outputs": [],
   "source": [
    "from scipy.stats import linregress"
   ]
  },
  {
   "cell_type": "markdown",
   "metadata": {},
   "source": [
    "To get the statistics for the linear regression we can use a function called `linregress`"
   ]
  },
  {
   "cell_type": "code",
   "execution_count": 28,
   "metadata": {},
   "outputs": [
    {
     "data": {
      "text/plain": [
       "LinregressResult(slope=0.9622331502773507, intercept=-0.011936070484259736, rvalue=0.9064525118355159, pvalue=1.0446912214962477e-114, stderr=0.025839319479636295)"
      ]
     },
     "execution_count": 28,
     "metadata": {},
     "output_type": "execute_result"
    }
   ],
   "source": [
    "stats = linregress(x, y)\n",
    "m = stats.slope\n",
    "b = stats.intercept\n",
    "stats"
   ]
  },
  {
   "cell_type": "markdown",
   "metadata": {},
   "source": [
    "The equation for the straight line that describes linear regression is `y = mx + b`, where m is the *slope* and `b` is the *intercept*.  \n",
    "(Hint: you have some extra information in the stats object - stats.rvalue and stats.pvalue.)\n",
    "\n",
    "Therefore, we can then plot the line of linear regression by adding the following line:"
   ]
  },
  {
   "cell_type": "code",
   "execution_count": 29,
   "metadata": {},
   "outputs": [
    {
     "data": {
      "text/plain": [
       "[<matplotlib.lines.Line2D at 0x7f8ca6181550>]"
      ]
     },
     "execution_count": 29,
     "metadata": {},
     "output_type": "execute_result"
    },
    {
     "data": {
      "image/png": "[encoded data removed]",
      "text/plain": [
       "<Figure size 432x288 with 1 Axes>"
      ]
     },
     "metadata": {
      "needs_background": "light"
     },
     "output_type": "display_data"
    }
   ],
   "source": [
    "plt.scatter(x, y)\n",
    "plt.plot(x, m * x + b, color=\"r\")   # I've added a color argument here"
   ]
  },
  {
   "cell_type": "markdown",
   "metadata": {},
   "source": [
    "Matplotlib figures are highly customisable, and there are so many options it is usually best to consult the [documentation]() first.  \n",
    "We will take the above plot and customize *fontsize*, *linewidth*, *color* for example:"
   ]
  },
  {
   "cell_type": "code",
   "execution_count": 30,
   "metadata": {
    "scrolled": true
   },
   "outputs": [
    {
     "data": {
      "image/png": "[encoded data removed]",
      "text/plain": [
       "<Figure size 720x720 with 1 Axes>"
      ]
     },
     "metadata": {
      "needs_background": "light"
     },
     "output_type": "display_data"
    }
   ],
   "source": [
    "# Change the default figure size\n",
    "plt.figure(figsize=(10,10))\n",
    "\n",
    "# Change the default marker for the scatter from circles to x's\n",
    "plt.scatter(x, y, marker='x')\n",
    "\n",
    "# Set the linewidth on the regression line to 3px\n",
    "plt.plot(x, m * x + b, color=\"red\", linewidth=3)\n",
    "\n",
    "# Add x and y lables, and set their font size\n",
    "plt.xlabel(\"Sorbitol\", fontsize=20)\n",
    "plt.ylabel(\"Trehalose\", fontsize=20)\n",
    "\n",
    "# Plot pvalue and r2 value\n",
    "plt.text(-2.5, 3, 'pvalue: %s' % stats.pvalue,\n",
    "         fontsize=14)\n",
    "plt.text(-2.5, 2.8, 'r2: %s' % stats.rvalue,\n",
    "         fontsize=14)\n",
    "\n",
    "# Set the font size of the number lables on the axes\n",
    "plt.xticks(fontsize=18)\n",
    "plt.yticks(fontsize=18)\n",
    "plt.show()"
   ]
  },
  {
   "cell_type": "markdown",
   "metadata": {},
   "source": [
    "## Exercises\n",
    "\n",
    "You can find more pandas excercices [here](https://github.com/guipsamora/pandas_exercises) and [here](https://www.machinelearningplus.com/python/101-pandas-exercises-python/)"
   ]
  },
  {
   "cell_type": "code",
   "execution_count": null,
   "metadata": {},
   "outputs": [],
   "source": []
  }
 ],
 "metadata": {
  "kernelspec": {
   "display_name": "Python 3",
   "language": "python",
   "name": "python3"
  },
  "language_info": {
   "codemirror_mode": {
    "name": "ipython",
    "version": 3
   },
   "file_extension": ".py",
   "mimetype": "text/x-python",
   "name": "python",
   "nbconvert_exporter": "python",
   "pygments_lexer": "ipython3",
   "version": "3.6.10"
  }
 },
 "nbformat": 4,
 "nbformat_minor": 2
}
