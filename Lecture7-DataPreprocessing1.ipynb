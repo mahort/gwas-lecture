{
 "cells": [
  {
   "cell_type": "markdown",
   "metadata": {},
   "source": [
    "## Introduction\n",
    "\n",
    "The first step in any analysis is to review the data that will be analyzed. Large datasets typically contain missing data, data errors (e.g. due to an error during measurement or data entry), or entries that violate statistical assumptions (so-called outliers). \n",
    "\n",
    "To put that another way, during data review you need to assess whether the data need to be cleaned *before* analysis (e.g. review the metadata, including the collection date, mass, or other covarites), and whether the data follow traditional statistical assumptions, including normality.\n",
    "\n",
    "In this notebook, we will review data preprocessing steps that are common in bioinformatics. To do so, we will use the statistical computing environment *R*.\n",
    "\n",
    "### Download the test data\n",
    "\n",
    "To practice data preprocessing techniques, let's use [publicly available](http://www.pnas.org/content/112/13/4032) glucosinolate data. The formatted data can be downloaded here:\n",
    "\n",
    "curl https://raw.githubusercontent.com/timeu/gwas-lecture/master/data/cmeyer_glucs2015/bmeyer_etal.txt --create-dirs --output data/cmeyer_glucs2015/bmeyer_etal.txt\n",
    "\n",
    "### Check the file format\n",
    "\n",
    "Before importing data, it is always important to review the file format. Is it a text file? Is it an hdf5 file? Does to need to be transposed?\n",
    "\n",
    "- If it is a text file:\n",
    "  - What delimiter was used to make the file? \n",
    "  - What character set was used?   (see the command *iconv*)\n",
    "  - What carriage return was used? (see the command *dos2unix*)\n",
    "  - Are there spaces or unexpected characters in the header? (see vim/emacs)\n",
    "  - Are there quotes or comment characters that will interrupt the import?\n",
    "\n",
    "- If it is an hdf5 file:\n",
    "  - What are the keys?\n",
    "  \n",
    "### Load the glucosinolate data"
   ]
  },
  {
   "cell_type": "code",
   "execution_count": null,
   "metadata": {},
   "outputs": [],
   "source": [
    "# rm(list=ls());\n",
    "# open the glucosinolate file in R\n",
    "\n",
    "glucosinolateFileName <- \"data/cmeyer_glucs2015/bmeyer_etal.txt\";  \n",
    "glucs <- read.table(glucosinolateFileName, header=T, sep=\"\\t\", as.is=T, stringsAsFactors=FALSE);  \n",
    "glucs <- glucs[order(glucs[,\"accession_id\"]),];"
   ]
  },
  {
   "cell_type": "code",
   "execution_count": null,
   "metadata": {},
   "outputs": [],
   "source": [
    "# what's in the working environment?\n",
    "ls(); "
   ]
  },
  {
   "cell_type": "code",
   "execution_count": null,
   "metadata": {},
   "outputs": [],
   "source": [
    "# nb: this is a working R environment\n",
    "# to learn the syntax of an argument, use the question mark followed by the command line\n",
    "# ?head"
   ]
  },
  {
   "cell_type": "code",
   "execution_count": null,
   "metadata": {},
   "outputs": [],
   "source": [
    "# str(glucs);"
   ]
  },
  {
   "cell_type": "code",
   "execution_count": null,
   "metadata": {},
   "outputs": [],
   "source": [
    "head(glucs);"
   ]
  },
  {
   "cell_type": "code",
   "execution_count": null,
   "metadata": {},
   "outputs": [],
   "source": [
    "# it's important to run sanity checks to ensure that you have loaded the entire dataset\n",
    "dim(glucs); # returns the dimensionality in row x column format\n",
    "nrow(glucs); # returns the number of rows\n",
    "ncol(glucs); # returns the number of columns\n",
    "\n",
    "# when you begin to write scripts, add comments so that \n",
    "# future readers (such as yourself) know what you were doing\n",
    "# the comment character in R is #"
   ]
  },
  {
   "cell_type": "code",
   "execution_count": null,
   "metadata": {},
   "outputs": [],
   "source": [
    "# R functions are often 'silent' (return from a function invisibly)\n",
    "# In addition, the numbers above lack context. The two commands\n",
    "# cat and print can be used to add user feedback. As an example:\n",
    "cat(\"There are: \", nrow(glucs), \" rows and \", sep=\"\");\n",
    "cat( ncol(glucs), \" columns in the dataset.\\n\", sep=\"\");\n",
    "cat(\"There are:\", length(which(is.na(glucs))), \"missing data (i.e. NAs).\\n\");\n",
    "\n",
    "# the newline character is '\\n' "
   ]
  },
  {
   "cell_type": "markdown",
   "metadata": {},
   "source": [
    "### Quality control in *nix?\n",
    "If the numbers do not match your expectation, open the file in vi/emacs or another text editor... and look for special characters or quotes/comments that may have interrupted the import.\n",
    "\n",
    "You're probably familiar with some of the more common errors. For example, if the number of columns doesn't match the number of column names, *R* will return an error. However, this is a 'nice' error, because it forces you to look at the data in more detail. The scariest errors are the errors that escape your attention. It's thus very important to review your data (e.g. what happens if you concatenate 2 data files?)."
   ]
  },
  {
   "cell_type": "code",
   "execution_count": null,
   "metadata": {},
   "outputs": [],
   "source": [
    "# or alternatively:\n",
    "# command <- paste0( \"head \", glucosinolateFileName );\n",
    "# print( system( command, wait=T, intern=T ));"
   ]
  },
  {
   "cell_type": "markdown",
   "metadata": {},
   "source": [
    "### What is the phenotype?\n",
    "\n",
    "The glucosinolate data were generated with the plant genetic model species *Arabidopsis thaliana*\n",
    "\n",
    "One of the main reasons geneticists use *A. thaliana* is because it is self compatible, which means that inbred lines can be created through self pollination. In *A. thaliana*, these inbred lines were created by placing each plant's flowers in bags to minimize cross pollination among individuals.\n",
    "\n",
    "The seeds from these inbred lines can then be used as replicates in experiments. Replicated inbred lines allow us to estimate the mean phenotype for any given genotype at a much higher precision level than is usually possible in obligate outcrossing species. For GWAS, work with inbred lines improves power - since one can use *fewer* individuals than would be necessary in other species.\n",
    "\n",
    "But how many replicates are available for each line? And how should we handle these replicates?"
   ]
  },
  {
   "cell_type": "code",
   "execution_count": null,
   "metadata": {},
   "outputs": [],
   "source": [
    "cat(\"There are:\", length(unique(glucs$accession_id)), \"unique accessions.\\n\");\n",
    "tableOfAccessionIds <- table(glucs$accession_id);\n",
    "tableOfAccessionIds;"
   ]
  },
  {
   "cell_type": "code",
   "execution_count": null,
   "metadata": {},
   "outputs": [],
   "source": [
    "# That's hard to read, somewhat better is:\n",
    "rangeOfReplicates <- range(tableOfAccessionIds);\n",
    "cat(\"The number of replicates ranges between \", rangeOfReplicates[1], \" and \", rangeOfReplicates[2], \"\\n\", sep=\"\");\n",
    "cat(\"With a mean of:\", mean(tableOfAccessionIds), \"\\n\");\n",
    "\n",
    "# if lme4, ggplot2, and gridExtra aren't installed, install them...\n",
    "if( !require(\"lme4\" )){  \n",
    "    install.packages(\"lme4\");  \n",
    "}\n",
    "\n",
    "if( !require(\"ggplot2\" )){  \n",
    "    install.packages(\"ggplot2\");  \n",
    "}\n",
    "\n",
    "if( !require(\"gridExtra\" )){  \n",
    "    install.packages(\"gridExtra\");  \n",
    "}\n"
   ]
  },
  {
   "cell_type": "code",
   "execution_count": null,
   "metadata": {},
   "outputs": [],
   "source": [
    "# there's quite a range of replicate counts\n",
    "# plot the # of replicates per genotype\n",
    "options(repr.plot.width=2.5, repr.plot.height=2.5)\n",
    "counts <- table(glucs$accession_id);\n",
    "ggplot() + aes(counts) + \n",
    "        xlab( paste0( \"The number of replicates\" )) + ylab(\"Counts\") +\n",
    "        geom_bar(stat=\"count\", fill=\"tan1\") + \n",
    "        geom_vline(aes(xintercept=mean(counts)), linetype=3);"
   ]
  },
  {
   "cell_type": "markdown",
   "metadata": {},
   "source": [
    "### Estimate the mean phenotype per genotype"
   ]
  },
  {
   "cell_type": "code",
   "execution_count": null,
   "metadata": {},
   "outputs": [],
   "source": [
    "# tapply offers a fast way to estimate the mean (or any other summary statistic) across a factor\n",
    "dataSummary <- stack(with(glucs, tapply(G2P, list(accession_id), mean))); # stack can be used to convert a vector into a 2-col matrix\n",
    "colnames(dataSummary) <- c(\"tapply_mean\", \"accession_id\" );\n",
    "tail(dataSummary);"
   ]
  },
  {
   "cell_type": "markdown",
   "metadata": {},
   "source": [
    "<!-- # this is roughly equivalent to using something more model-based\n",
    "# residuals are often used in GWAS, especially when nuisance variables are taken 'into account' (e.g. plate_id, etc.)\n",
    "# as a simple example:\n",
    "lm0 <- lm( G2P ~ 1, data=glucs); \n",
    "resids <- stack(residuals(lm0));-->"
   ]
  },
  {
   "cell_type": "code",
   "execution_count": null,
   "metadata": {},
   "outputs": [],
   "source": [
    "# another option: use a mixed model to specify a random effect\n",
    "require(lme4);\n",
    "lmer0 <- lmer( G2P ~ 1 + (1|accession_id), data=glucs );\n",
    "blups <- ranef(lmer0)$accession_id; # these are the best-linear unbiased predictors:\n",
    "blups <- data.frame( accession_id=rownames(blups), blup=blups[,1], stringsAsFactors=FALSE );\n",
    "head(blups);"
   ]
  },
  {
   "cell_type": "code",
   "execution_count": null,
   "metadata": {},
   "outputs": [],
   "source": [
    "both <- merge(blups, dataSummary, by=\"accession_id\" );\n",
    "head(both);\n",
    "ggplot( both, aes(x=blup, y=tapply_mean)) + geom_point(alpha=0.5, col=\"cadetblue2\" ); "
   ]
  },
  {
   "cell_type": "markdown",
   "metadata": {},
   "source": [
    "The two techniques are similar, but the results aren't perfectly correlated. Why? (as follow up, you could identify the outlying accessions)"
   ]
  },
  {
   "cell_type": "markdown",
   "metadata": {},
   "source": [
    "### Checking model assumptions/normality for a phenotype"
   ]
  },
  {
   "cell_type": "code",
   "execution_count": null,
   "metadata": {},
   "outputs": [],
   "source": [
    "# count data are often non-normal, there are various ways \n",
    "# to investigate normality, including Normal Q-Q plots (quantile-quantile) plots\n",
    "# here is an example with data sampled from a normal distribution:\n",
    "normalData <- rnorm(1e4);\n",
    "p1 <- ggplot() + aes(sample=normalData) + stat_qq(col=\"forestgreen\", size=2) + stat_qq_line(col=\"tan1\", size=1.25);\n",
    "\n",
    "# and the glucosinolate G2P\n",
    "p2 <- ggplot( glucs, aes(sample=G2P)) + stat_qq(col=\"firebrick1\", size=2) + stat_qq_line(col=\"cadetblue2\", size=1.25);\n",
    "\n",
    "options(repr.plot.width=4, repr.plot.height=2.5)\n",
    "grid.arrange(p1, p2, ncol = 2);"
   ]
  },
  {
   "cell_type": "code",
   "execution_count": null,
   "metadata": {},
   "outputs": [],
   "source": [
    "# The Q-Q plot suggests the data are highly non-normal\n",
    "# The non-normality is also evident in a density plot:\n",
    "p1 <- ggplot() + aes(x=rnorm(1e5)) + \n",
    "            xlab( \"Normal Distribution\") +\n",
    "            geom_density();\n",
    "p2 <- ggplot( glucs, aes(x=G2P)) + \n",
    "            theme(axis.text.x = element_text(angle = 35)) +\n",
    "            geom_density(color=\"darkblue\", fill=\"lightblue\");\n",
    "\n",
    "grid.arrange(p1, p2, ncol = 2);"
   ]
  },
  {
   "cell_type": "code",
   "execution_count": null,
   "metadata": {},
   "outputs": [],
   "source": [
    "# Again, the data are clearly non-normal. These are visual tests, which are fine,\n",
    "# but you may want to use formalized tests such as the Shapiro-Wilk test:\n",
    "shapiro.test(glucs$G2P);"
   ]
  },
  {
   "cell_type": "code",
   "execution_count": null,
   "metadata": {
    "scrolled": true
   },
   "outputs": [],
   "source": [
    "# or the Kolmogorov-Smirnov (KS) normality test:\n",
    "# nb: y can either be a vector of data values or a character string naming a cumulative distribution function (cdf)\n",
    "ks.test( glucs$G2P, y=\"pnorm\"); "
   ]
  },
  {
   "cell_type": "markdown",
   "metadata": {},
   "source": [
    "### The data are clearly non-normal!!!\n",
    "\n",
    "What are your other options? In the next notebook, we'll consider some alternative approaches.\n"
   ]
  }
 ],
 "metadata": {
  "kernelspec": {
   "display_name": "R",
   "language": "R",
   "name": "ir"
  },
  "language_info": {
   "codemirror_mode": "r",
   "file_extension": ".r",
   "mimetype": "text/x-r-source",
   "name": "R",
   "pygments_lexer": "r",
   "version": "3.4.3"
  }
 },
 "nbformat": 4,
 "nbformat_minor": 4
}
